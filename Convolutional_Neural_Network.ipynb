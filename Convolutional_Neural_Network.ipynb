{
 "cells": [
  {
   "cell_type": "markdown",
   "metadata": {},
   "source": [
    "## Reti neurali convoluzionali"
   ]
  },
  {
   "cell_type": "code",
   "execution_count": 1,
   "metadata": {},
   "outputs": [],
   "source": [
    "## la convolution sostanzialmente prende l'immagine e analizza \n",
    "## la griglia dell'immagine spostandosi di finestre di dimensione specificata\n",
    "## (griglia si intende tabella di pixels)\n",
    "## ad esempio 3x3, ed assegna un valore che semplifichi quel che trova\n",
    "## quindi analizzando una certa finestra dell'immagine, esempio 4x4, \n",
    "## assegnerà un certo valore deciso dall'algoritmo che permetterà di\n",
    "## semplificare quell'area"
   ]
  },
  {
   "cell_type": "code",
   "execution_count": 2,
   "metadata": {},
   "outputs": [],
   "source": [
    "import tensorflow as tf\n",
    "from tensorflow.keras.models import Sequential\n",
    "from tensorflow.keras.layers import Dense, Dropout, Activation, Flatten, Conv2D, MaxPooling2D\n",
    "from tensorflow.keras.callbacks import TensorBoard\n",
    "import pickle\n",
    "import numpy as np\n",
    "from decidueye import graph_lib as gl\n",
    "from sklearn.model_selection import train_test_split\n",
    "import matplotlib.pyplot as plt\n",
    "import time"
   ]
  },
  {
   "cell_type": "code",
   "execution_count": 3,
   "metadata": {},
   "outputs": [],
   "source": [
    "NAME = 'Cats-vc-dogs-cnn-64x2-{}'.format(int(time.time()))"
   ]
  },
  {
   "cell_type": "code",
   "execution_count": 4,
   "metadata": {},
   "outputs": [],
   "source": [
    "tensorboard = TensorBoard(log_dir='C:/Users/jjjpi/Desktop/deep_learning/cats_dogs/logs/{}'.format(NAME))"
   ]
  },
  {
   "cell_type": "code",
   "execution_count": 5,
   "metadata": {},
   "outputs": [],
   "source": [
    "gpu_options = tf.GPUOptions(per_process_gpu_memory_fraction=0.333)\n",
    "session = tf.Session(config=tf.ConfigProto(gpu_options=gpu_options))"
   ]
  },
  {
   "cell_type": "code",
   "execution_count": 6,
   "metadata": {},
   "outputs": [],
   "source": [
    "X = pickle.load(open('C:/Users/jjjpi/Desktop/deep_learning/cats_dogs/processed_data/X.pickle', 'rb'))\n",
    "y = pickle.load(open('C:/Users/jjjpi/Desktop/deep_learning/cats_dogs/processed_data/y.pickle', 'rb'))"
   ]
  },
  {
   "cell_type": "markdown",
   "metadata": {},
   "source": [
    "## Normalizzo i dati"
   ]
  },
  {
   "cell_type": "code",
   "execution_count": 7,
   "metadata": {},
   "outputs": [],
   "source": [
    "X = X / 255.0\n",
    "# perché ovviamente il massimo è 255 ed il minimo è 0"
   ]
  },
  {
   "cell_type": "markdown",
   "metadata": {},
   "source": [
    "## Suddivisione in Train e Test"
   ]
  },
  {
   "cell_type": "code",
   "execution_count": 8,
   "metadata": {},
   "outputs": [],
   "source": [
    "#X_train, X_test, y_train, y_test = train_test_split(X, y, test_size=0.25, random_state=777)"
   ]
  },
  {
   "cell_type": "markdown",
   "metadata": {},
   "source": [
    "## Modello"
   ]
  },
  {
   "cell_type": "code",
   "execution_count": 9,
   "metadata": {},
   "outputs": [],
   "source": [
    "model = Sequential()"
   ]
  },
  {
   "cell_type": "markdown",
   "metadata": {},
   "source": [
    "#### primo strato"
   ]
  },
  {
   "cell_type": "code",
   "execution_count": 10,
   "metadata": {},
   "outputs": [],
   "source": [
    "## il primo strato sarà uno strato convoluzionale con\n",
    "##          -64 neuroni\n",
    "##          -finestra 3x3\n",
    "##          -dimensioni di X senza il -1, \n",
    "##           la matrice X salvata prima aveva dimensioni (-1, dim, dim, 1)\n",
    "##           dove dim inizialmente era 50, ma si può scegliere il numero che si vuole\n",
    "##           purché sia minore della dimensione reale\n",
    "\n",
    "## dopo lo strato convoluzionale passo o uno strato di activation oppure uno strato di pooling\n",
    "## in questo caso passo activation e poi pooling\n",
    "\n",
    "model.add(Conv2D(64, (3, 3), input_shape=X.shape[1:]))\n",
    "model.add(Activation('relu'))\n",
    "model.add(MaxPooling2D(pool_size=(2, 2)))"
   ]
  },
  {
   "cell_type": "markdown",
   "metadata": {},
   "source": [
    "#### secondo strato"
   ]
  },
  {
   "cell_type": "code",
   "execution_count": 11,
   "metadata": {},
   "outputs": [],
   "source": [
    "model.add(Conv2D(64, (3, 3), input_shape=X.shape[1:]))\n",
    "model.add(Activation('relu'))\n",
    "model.add(MaxPooling2D(pool_size=(2, 2)))"
   ]
  },
  {
   "cell_type": "markdown",
   "metadata": {},
   "source": [
    "#### terzo strato"
   ]
  },
  {
   "cell_type": "code",
   "execution_count": 12,
   "metadata": {},
   "outputs": [],
   "source": [
    "## non è essenziale, ma per coerenza/correttezza aggiungo uno strato denso\n",
    "model.add(Flatten())\n",
    "model.add(Dense(64))\n",
    "model.add(Activation('relu'))"
   ]
  },
  {
   "cell_type": "markdown",
   "metadata": {},
   "source": [
    "#### variabile risposta"
   ]
  },
  {
   "cell_type": "code",
   "execution_count": 13,
   "metadata": {},
   "outputs": [],
   "source": [
    "#### specifico la distribuzione probabilistica"
   ]
  },
  {
   "cell_type": "code",
   "execution_count": 14,
   "metadata": {},
   "outputs": [],
   "source": [
    "model.add(Dense(1))\n",
    "model.add(Activation('sigmoid'))"
   ]
  },
  {
   "cell_type": "markdown",
   "metadata": {},
   "source": [
    "## Definizione parametri per allenamento"
   ]
  },
  {
   "cell_type": "code",
   "execution_count": 15,
   "metadata": {},
   "outputs": [],
   "source": [
    "model.compile(loss='binary_crossentropy', \n",
    "              optimizer='adam', \n",
    "              metrics=['accuracy'])"
   ]
  },
  {
   "cell_type": "markdown",
   "metadata": {},
   "source": [
    "## Allenamento del modello"
   ]
  },
  {
   "cell_type": "code",
   "execution_count": 16,
   "metadata": {
    "scrolled": true
   },
   "outputs": [],
   "source": [
    "#import keras\n",
    "#config = tf.ConfigProto(device_count={'CPU': 4})\n",
    "#keras.backend.tensorflow_backend.set_session(tf.Session(config=config))"
   ]
  },
  {
   "cell_type": "code",
   "execution_count": 17,
   "metadata": {},
   "outputs": [
    {
     "name": "stdout",
     "output_type": "stream",
     "text": [
      "Train on 17462 samples, validate on 7484 samples\n",
      "Epoch 1/10\n",
      "17462/17462 [==============================] - 151s 9ms/step - loss: 0.6175 - acc: 0.6460 - val_loss: 0.5514 - val_acc: 0.7242\n",
      "Epoch 2/10\n",
      "17462/17462 [==============================] - 161s 9ms/step - loss: 0.5057 - acc: 0.7516 - val_loss: 0.5146 - val_acc: 0.7487\n",
      "Epoch 3/10\n",
      "17462/17462 [==============================] - 154s 9ms/step - loss: 0.4639 - acc: 0.7804 - val_loss: 0.4815 - val_acc: 0.7662\n",
      "Epoch 4/10\n",
      "17462/17462 [==============================] - 138s 8ms/step - loss: 0.4230 - acc: 0.8056 - val_loss: 0.4690 - val_acc: 0.7731\n",
      "Epoch 5/10\n",
      "17462/17462 [==============================] - 131s 8ms/step - loss: 0.3908 - acc: 0.8244 - val_loss: 0.4788 - val_acc: 0.7763\n",
      "Epoch 6/10\n",
      "17462/17462 [==============================] - 163s 9ms/step - loss: 0.3505 - acc: 0.8451 - val_loss: 0.4635 - val_acc: 0.7875\n",
      "Epoch 7/10\n",
      "17462/17462 [==============================] - 165s 9ms/step - loss: 0.3115 - acc: 0.8630 - val_loss: 0.4790 - val_acc: 0.7789\n",
      "Epoch 8/10\n",
      "17462/17462 [==============================] - 139s 8ms/step - loss: 0.2687 - acc: 0.8856 - val_loss: 0.4836 - val_acc: 0.7846\n",
      "Epoch 9/10\n",
      "17462/17462 [==============================] - 131s 7ms/step - loss: 0.2241 - acc: 0.9083 - val_loss: 0.5102 - val_acc: 0.7970\n",
      "Epoch 10/10\n",
      "17462/17462 [==============================] - 132s 8ms/step - loss: 0.1785 - acc: 0.9288 - val_loss: 0.5578 - val_acc: 0.7902\n"
     ]
    },
    {
     "data": {
      "text/plain": [
       "<tensorflow.python.keras.callbacks.History at 0x1522099fa58>"
      ]
     },
     "execution_count": 17,
     "metadata": {},
     "output_type": "execute_result"
    }
   ],
   "source": [
    "model.fit(X, y, \n",
    "          batch_size=32, \n",
    "          validation_split=0.3, \n",
    "          epochs=10, \n",
    "          callbacks=[tensorboard])"
   ]
  },
  {
   "cell_type": "code",
   "execution_count": 19,
   "metadata": {
    "scrolled": true
   },
   "outputs": [],
   "source": [
    "#val_loss, val_acc = model.evaluate(X_test, y_test)\n",
    "#print('loss = {}\\naccuracy = {}'.format(val_loss, val_acc))"
   ]
  },
  {
   "cell_type": "code",
   "execution_count": 20,
   "metadata": {},
   "outputs": [],
   "source": [
    "y_proba = model.predict(X) #sono i predict proba\n",
    "y_pred = np.array([1 if i > 0.5 else 0 for i in y_proba])"
   ]
  },
  {
   "cell_type": "code",
   "execution_count": 21,
   "metadata": {},
   "outputs": [
    {
     "data": {
      "image/png": "[encoded data removed]",
      "text/plain": [
       "<Figure size 432x288 with 2 Axes>"
      ]
     },
     "metadata": {
      "needs_background": "light"
     },
     "output_type": "display_data"
    }
   ],
   "source": [
    "matr_conf_list = gl.plot_matrice_di_confusione(y, y_pred, classes=[1, 0])"
   ]
  },
  {
   "cell_type": "code",
   "execution_count": 22,
   "metadata": {},
   "outputs": [],
   "source": [
    "# la rete sembra individuare meglio i gatti\n",
    "# su tutti i gatti infatti ne individua correttamente l'86.07%\n",
    "# mentre su tutti i cani, il 31.7% viene etichettato come gatto"
   ]
  },
  {
   "cell_type": "code",
   "execution_count": 23,
   "metadata": {},
   "outputs": [
    {
     "data": {
      "image/png": "[encoded data removed]",
      "text/plain": [
       "<Figure size 1440x432 with 1 Axes>"
      ]
     },
     "metadata": {
      "needs_background": "light"
     },
     "output_type": "display_data"
    }
   ],
   "source": [
    "gl.plot_roc_curve(y, y_proba, label='Convolutional Neural Network')"
   ]
  },
  {
   "cell_type": "code",
   "execution_count": null,
   "metadata": {},
   "outputs": [],
   "source": [
    "#plt.imshow(X_original[0], cmap=plt.cm.binary)\n",
    "#plt.show()"
   ]
  },
  {
   "cell_type": "code",
   "execution_count": null,
   "metadata": {},
   "outputs": [],
   "source": []
  }
 ],
 "metadata": {
  "kernelspec": {
   "display_name": "Python 3",
   "language": "python",
   "name": "python3"
  },
  "language_info": {
   "codemirror_mode": {
    "name": "ipython",
    "version": 3
   },
   "file_extension": ".py",
   "mimetype": "text/x-python",
   "name": "python",
   "nbconvert_exporter": "python",
   "pygments_lexer": "ipython3",
   "version": "3.6.7"
  }
 },
 "nbformat": 4,
 "nbformat_minor": 2
}
